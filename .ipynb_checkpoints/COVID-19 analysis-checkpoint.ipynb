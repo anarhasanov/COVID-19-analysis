{
 "cells": [
  {
   "cell_type": "code",
   "execution_count": 1,
   "metadata": {},
   "outputs": [],
   "source": [
    "import pandas as pd\n",
    "import numpy as np\n",
    "import matplotlib.pyplot as plt\n",
    "plt.style.use('fivethirtyeight')\n",
    "import datetime"
   ]
  },
  {
   "cell_type": "code",
   "execution_count": 2,
   "metadata": {},
   "outputs": [],
   "source": [
    "# get data from https://github.com/CSSEGISandData/COVID-19, provided by Johns Hopkins University\n",
    "\n",
    "confirmed = pd.read_csv('https://raw.githubusercontent.com/CSSEGISandData/COVID-19/master/csse_covid_19_data/csse_covid_19_time_series/time_series_covid19_confirmed_global.csv')\n",
    "deaths = pd.read_csv('https://raw.githubusercontent.com/CSSEGISandData/COVID-19/master/csse_covid_19_data/csse_covid_19_time_series/time_series_covid19_deaths_global.csv')\n",
    "recoveries = pd.read_csv('https://raw.githubusercontent.com/CSSEGISandData/COVID-19/master/csse_covid_19_data/csse_covid_19_time_series/time_series_covid19_recovered_global.csv')"
   ]
  },
  {
   "cell_type": "markdown",
   "metadata": {},
   "source": [
    "## Global Trends"
   ]
  },
  {
   "cell_type": "code",
   "execution_count": 3,
   "metadata": {},
   "outputs": [
    {
     "name": "stdout",
     "output_type": "stream",
     "text": [
      "Data is as of March30\n"
     ]
    }
   ],
   "source": [
    "latest_date = datetime.datetime(int(confirmed.columns[-1][5:7]),\n",
    "                  int(confirmed.columns[-1][0]),\n",
    "                  int(confirmed.columns[-1][2:4])).strftime(\"%B%d\")\n",
    "\n",
    "print('Data is as of', latest_date)"
   ]
  },
  {
   "cell_type": "code",
   "execution_count": 4,
   "metadata": {
    "scrolled": false
   },
   "outputs": [
    {
     "data": {
      "text/html": [
       "<div>\n",
       "<style scoped>\n",
       "    .dataframe tbody tr th:only-of-type {\n",
       "        vertical-align: middle;\n",
       "    }\n",
       "\n",
       "    .dataframe tbody tr th {\n",
       "        vertical-align: top;\n",
       "    }\n",
       "\n",
       "    .dataframe thead th {\n",
       "        text-align: right;\n",
       "    }\n",
       "</style>\n",
       "<table border=\"1\" class=\"dataframe\">\n",
       "  <thead>\n",
       "    <tr style=\"text-align: right;\">\n",
       "      <th></th>\n",
       "      <th>date</th>\n",
       "      <th>confirmed_count</th>\n",
       "    </tr>\n",
       "  </thead>\n",
       "  <tbody>\n",
       "    <tr>\n",
       "      <td>44</td>\n",
       "      <td>2020-03-06</td>\n",
       "      <td>101801</td>\n",
       "    </tr>\n",
       "    <tr>\n",
       "      <td>45</td>\n",
       "      <td>2020-03-07</td>\n",
       "      <td>105847</td>\n",
       "    </tr>\n",
       "    <tr>\n",
       "      <td>46</td>\n",
       "      <td>2020-03-08</td>\n",
       "      <td>109821</td>\n",
       "    </tr>\n",
       "    <tr>\n",
       "      <td>47</td>\n",
       "      <td>2020-03-09</td>\n",
       "      <td>113590</td>\n",
       "    </tr>\n",
       "    <tr>\n",
       "      <td>48</td>\n",
       "      <td>2020-03-10</td>\n",
       "      <td>118620</td>\n",
       "    </tr>\n",
       "    <tr>\n",
       "      <td>49</td>\n",
       "      <td>2020-03-11</td>\n",
       "      <td>125875</td>\n",
       "    </tr>\n",
       "    <tr>\n",
       "      <td>50</td>\n",
       "      <td>2020-03-12</td>\n",
       "      <td>128352</td>\n",
       "    </tr>\n",
       "    <tr>\n",
       "      <td>51</td>\n",
       "      <td>2020-03-13</td>\n",
       "      <td>145205</td>\n",
       "    </tr>\n",
       "    <tr>\n",
       "      <td>52</td>\n",
       "      <td>2020-03-14</td>\n",
       "      <td>156101</td>\n",
       "    </tr>\n",
       "    <tr>\n",
       "      <td>53</td>\n",
       "      <td>2020-03-15</td>\n",
       "      <td>167454</td>\n",
       "    </tr>\n",
       "    <tr>\n",
       "      <td>54</td>\n",
       "      <td>2020-03-16</td>\n",
       "      <td>181574</td>\n",
       "    </tr>\n",
       "    <tr>\n",
       "      <td>55</td>\n",
       "      <td>2020-03-17</td>\n",
       "      <td>197102</td>\n",
       "    </tr>\n",
       "    <tr>\n",
       "      <td>56</td>\n",
       "      <td>2020-03-18</td>\n",
       "      <td>214821</td>\n",
       "    </tr>\n",
       "    <tr>\n",
       "      <td>57</td>\n",
       "      <td>2020-03-19</td>\n",
       "      <td>242500</td>\n",
       "    </tr>\n",
       "    <tr>\n",
       "      <td>58</td>\n",
       "      <td>2020-03-20</td>\n",
       "      <td>272035</td>\n",
       "    </tr>\n",
       "    <tr>\n",
       "      <td>59</td>\n",
       "      <td>2020-03-21</td>\n",
       "      <td>304396</td>\n",
       "    </tr>\n",
       "    <tr>\n",
       "      <td>60</td>\n",
       "      <td>2020-03-22</td>\n",
       "      <td>336953</td>\n",
       "    </tr>\n",
       "    <tr>\n",
       "      <td>61</td>\n",
       "      <td>2020-03-23</td>\n",
       "      <td>378235</td>\n",
       "    </tr>\n",
       "    <tr>\n",
       "      <td>62</td>\n",
       "      <td>2020-03-24</td>\n",
       "      <td>418045</td>\n",
       "    </tr>\n",
       "    <tr>\n",
       "      <td>63</td>\n",
       "      <td>2020-03-25</td>\n",
       "      <td>467653</td>\n",
       "    </tr>\n",
       "    <tr>\n",
       "      <td>64</td>\n",
       "      <td>2020-03-26</td>\n",
       "      <td>529591</td>\n",
       "    </tr>\n",
       "    <tr>\n",
       "      <td>65</td>\n",
       "      <td>2020-03-27</td>\n",
       "      <td>593291</td>\n",
       "    </tr>\n",
       "    <tr>\n",
       "      <td>66</td>\n",
       "      <td>2020-03-28</td>\n",
       "      <td>660706</td>\n",
       "    </tr>\n",
       "    <tr>\n",
       "      <td>67</td>\n",
       "      <td>2020-03-29</td>\n",
       "      <td>720117</td>\n",
       "    </tr>\n",
       "    <tr>\n",
       "      <td>68</td>\n",
       "      <td>2020-03-30</td>\n",
       "      <td>782365</td>\n",
       "    </tr>\n",
       "  </tbody>\n",
       "</table>\n",
       "</div>"
      ],
      "text/plain": [
       "         date  confirmed_count\n",
       "44 2020-03-06           101801\n",
       "45 2020-03-07           105847\n",
       "46 2020-03-08           109821\n",
       "47 2020-03-09           113590\n",
       "48 2020-03-10           118620\n",
       "49 2020-03-11           125875\n",
       "50 2020-03-12           128352\n",
       "51 2020-03-13           145205\n",
       "52 2020-03-14           156101\n",
       "53 2020-03-15           167454\n",
       "54 2020-03-16           181574\n",
       "55 2020-03-17           197102\n",
       "56 2020-03-18           214821\n",
       "57 2020-03-19           242500\n",
       "58 2020-03-20           272035\n",
       "59 2020-03-21           304396\n",
       "60 2020-03-22           336953\n",
       "61 2020-03-23           378235\n",
       "62 2020-03-24           418045\n",
       "63 2020-03-25           467653\n",
       "64 2020-03-26           529591\n",
       "65 2020-03-27           593291\n",
       "66 2020-03-28           660706\n",
       "67 2020-03-29           720117\n",
       "68 2020-03-30           782365"
      ]
     },
     "execution_count": 4,
     "metadata": {},
     "output_type": "execute_result"
    }
   ],
   "source": [
    "# get daily confirmed cases\n",
    "confirmed_daily = confirmed.iloc[:, 4:].sum() \n",
    "confirmed_daily = pd.DataFrame({'date':confirmed_daily.index, 'confirmed_count':confirmed_daily.values})\n",
    "confirmed_daily.date = pd.to_datetime(confirmed_daily.date)\n",
    "\n",
    "# confirmed case counts higher than 99999\n",
    "confirmed_daily[confirmed_daily.confirmed_count > 99999] "
   ]
  },
  {
   "cell_type": "code",
   "execution_count": 5,
   "metadata": {},
   "outputs": [
    {
     "name": "stdout",
     "output_type": "stream",
     "text": [
      "44 days 00:00:00     first 100000 cases\n",
      "12 days 00:00:00    + 100000 cases\n",
      "3 days 00:00:00     + 100000 cases\n",
      "3 days 00:00:00     + 100000 cases\n",
      "2 days 00:00:00     + 100000 cases\n",
      "2 days 00:00:00     + 100000 cases\n",
      "1 days 00:00:00     + 100000 cases\n"
     ]
    }
   ],
   "source": [
    "# time period for every 100000th confirmed case\n",
    "print(confirmed_daily.date[44] - confirmed_daily.date[0], '    first 100000 cases')\n",
    "print(confirmed_daily.date[56] - confirmed_daily.date[44], '   + 100000 cases')\n",
    "print(confirmed_daily.date[59] - confirmed_daily.date[56], '    + 100000 cases')\n",
    "print(confirmed_daily.date[62] - confirmed_daily.date[59], '    + 100000 cases')\n",
    "print(confirmed_daily.date[64] - confirmed_daily.date[62], '    + 100000 cases')\n",
    "print(confirmed_daily.date[66] - confirmed_daily.date[64], '    + 100000 cases')\n",
    "print(confirmed_daily.date[67] - confirmed_daily.date[66], '    + 100000 cases')"
   ]
  },
  {
   "cell_type": "code",
   "execution_count": 6,
   "metadata": {},
   "outputs": [
    {
     "name": "stderr",
     "output_type": "stream",
     "text": [
      "C:\\Users\\Anar\\Anaconda3\\lib\\site-packages\\pandas\\plotting\\_matplotlib\\converter.py:103: FutureWarning: Using an implicitly registered datetime converter for a matplotlib plotting method. The converter was registered by pandas on import. Future versions of pandas will require you to explicitly register matplotlib converters.\n",
      "\n",
      "To register the converters:\n",
      "\t>>> from pandas.plotting import register_matplotlib_converters\n",
      "\t>>> register_matplotlib_converters()\n",
      "  warnings.warn(msg, FutureWarning)\n"
     ]
    },
    {
     "data": {
      "text/plain": [
       "(array([737446., 737490., 737502., 737505., 737508., 737510., 737512.,\n",
       "        737513.]), <a list of 8 Text xticklabel objects>)"
      ]
     },
     "execution_count": 6,
     "metadata": {},
     "output_type": "execute_result"
    },
    {
     "data": {
      "image/png": "[encoded data removed]",
      "text/plain": [
       "<Figure size 1296x504 with 1 Axes>"
      ]
     },
     "metadata": {
      "needs_background": "light"
     },
     "output_type": "display_data"
    }
   ],
   "source": [
    "plt.figure(figsize=(18, 7))\n",
    "plt.plot(confirmed_daily.date, confirmed_daily.confirmed_count, linewidth=3, color='b')\n",
    "plt.title('Time period for every 100000th COVID-19 case', size=20)\n",
    "plt.xlabel('days', size=15)\n",
    "plt.ylabel('confirmed cases', size=15)\n",
    "plt.xticks(size=10)\n",
    "plt.yticks(size=10)\n",
    "# plt.gca().set_facecolor('w')\n",
    "plt.grid(False)\n",
    "plt.axvspan(confirmed_daily.date[0], confirmed_daily.date[44], facecolor='green', alpha=0.2)\n",
    "plt.text(confirmed_daily.date[20], 400000, 'first 100 000 cases \\n\\n       44 days', size=15)\n",
    "plt.axvspan(confirmed_daily.date[44], confirmed_daily.date[56], facecolor='yellow', alpha=0.2)\n",
    "plt.text(confirmed_daily.date[48], 400000, '+100 000 \\n\\n  12 days', size=15)\n",
    "plt.axvspan(confirmed_daily.date[56], confirmed_daily.date[59], facecolor='blue', alpha=0.2)\n",
    "plt.text(confirmed_daily.date[57], 400000, '3', size=15)\n",
    "plt.axvspan(confirmed_daily.date[59], confirmed_daily.date[62], facecolor='red', alpha=0.2)\n",
    "plt.text(confirmed_daily.date[60], 400000, '3', size=15)\n",
    "plt.axvspan(confirmed_daily.date[62], confirmed_daily.date[64], facecolor='cyan', alpha=0.2)\n",
    "plt.text(confirmed_daily.date[63], 400000, '2', size=15)\n",
    "plt.axvspan(confirmed_daily.date[64], confirmed_daily.date[66], facecolor='black', alpha=0.2)\n",
    "plt.text(confirmed_daily.date[65], 400000, '2', size=15)\n",
    "plt.axvspan(confirmed_daily.date[66], confirmed_daily.date[67], facecolor='violet', alpha=0.2)\n",
    "plt.text(confirmed_daily.date[66], 400000, '1', size=15)\n",
    "plt.xticks([confirmed_daily.date[0], confirmed_daily.date[44], confirmed_daily.date[56], confirmed_daily.date[59],\n",
    "           confirmed_daily.date[62], confirmed_daily.date[64], confirmed_daily.date[66], confirmed_daily.date[67]])\n",
    "plt.xticks(rotation=70)"
   ]
  },
  {
   "cell_type": "markdown",
   "metadata": {},
   "source": [
    "### Combining confirmed, deaths and recoveries data"
   ]
  },
  {
   "cell_type": "code",
   "execution_count": 7,
   "metadata": {},
   "outputs": [],
   "source": [
    "confirmed_latest = confirmed.iloc[:, [1,-1]].groupby('Country/Region').sum()\n",
    "deaths_latest = deaths.iloc[:, [1,-1]].groupby('Country/Region').sum()\n",
    "recoveries_latest = recoveries.iloc[:, [1,-1]].groupby('Country/Region').sum()"
   ]
  },
  {
   "cell_type": "code",
   "execution_count": 8,
   "metadata": {
    "scrolled": false
   },
   "outputs": [
    {
     "data": {
      "text/html": [
       "<div>\n",
       "<style scoped>\n",
       "    .dataframe tbody tr th:only-of-type {\n",
       "        vertical-align: middle;\n",
       "    }\n",
       "\n",
       "    .dataframe tbody tr th {\n",
       "        vertical-align: top;\n",
       "    }\n",
       "\n",
       "    .dataframe thead th {\n",
       "        text-align: right;\n",
       "    }\n",
       "</style>\n",
       "<table border=\"1\" class=\"dataframe\">\n",
       "  <thead>\n",
       "    <tr style=\"text-align: right;\">\n",
       "      <th></th>\n",
       "      <th>3/30/20</th>\n",
       "    </tr>\n",
       "    <tr>\n",
       "      <th>Country/Region</th>\n",
       "      <th></th>\n",
       "    </tr>\n",
       "  </thead>\n",
       "  <tbody>\n",
       "    <tr>\n",
       "      <td>Afghanistan</td>\n",
       "      <td>170</td>\n",
       "    </tr>\n",
       "    <tr>\n",
       "      <td>Albania</td>\n",
       "      <td>223</td>\n",
       "    </tr>\n",
       "    <tr>\n",
       "      <td>Algeria</td>\n",
       "      <td>584</td>\n",
       "    </tr>\n",
       "    <tr>\n",
       "      <td>Andorra</td>\n",
       "      <td>370</td>\n",
       "    </tr>\n",
       "    <tr>\n",
       "      <td>Angola</td>\n",
       "      <td>7</td>\n",
       "    </tr>\n",
       "    <tr>\n",
       "      <td>...</td>\n",
       "      <td>...</td>\n",
       "    </tr>\n",
       "    <tr>\n",
       "      <td>Venezuela</td>\n",
       "      <td>135</td>\n",
       "    </tr>\n",
       "    <tr>\n",
       "      <td>Vietnam</td>\n",
       "      <td>203</td>\n",
       "    </tr>\n",
       "    <tr>\n",
       "      <td>West Bank and Gaza</td>\n",
       "      <td>116</td>\n",
       "    </tr>\n",
       "    <tr>\n",
       "      <td>Zambia</td>\n",
       "      <td>35</td>\n",
       "    </tr>\n",
       "    <tr>\n",
       "      <td>Zimbabwe</td>\n",
       "      <td>7</td>\n",
       "    </tr>\n",
       "  </tbody>\n",
       "</table>\n",
       "<p>178 rows × 1 columns</p>\n",
       "</div>"
      ],
      "text/plain": [
       "                    3/30/20\n",
       "Country/Region             \n",
       "Afghanistan             170\n",
       "Albania                 223\n",
       "Algeria                 584\n",
       "Andorra                 370\n",
       "Angola                    7\n",
       "...                     ...\n",
       "Venezuela               135\n",
       "Vietnam                 203\n",
       "West Bank and Gaza      116\n",
       "Zambia                   35\n",
       "Zimbabwe                  7\n",
       "\n",
       "[178 rows x 1 columns]"
      ]
     },
     "execution_count": 8,
     "metadata": {},
     "output_type": "execute_result"
    }
   ],
   "source": [
    "confirmed_latest"
   ]
  },
  {
   "cell_type": "code",
   "execution_count": 9,
   "metadata": {},
   "outputs": [
    {
     "data": {
      "text/html": [
       "<div>\n",
       "<style scoped>\n",
       "    .dataframe tbody tr th:only-of-type {\n",
       "        vertical-align: middle;\n",
       "    }\n",
       "\n",
       "    .dataframe tbody tr th {\n",
       "        vertical-align: top;\n",
       "    }\n",
       "\n",
       "    .dataframe thead th {\n",
       "        text-align: right;\n",
       "    }\n",
       "</style>\n",
       "<table border=\"1\" class=\"dataframe\">\n",
       "  <thead>\n",
       "    <tr style=\"text-align: right;\">\n",
       "      <th></th>\n",
       "      <th>confirmed</th>\n",
       "      <th>deaths</th>\n",
       "      <th>recoveries</th>\n",
       "      <th>active</th>\n",
       "    </tr>\n",
       "    <tr>\n",
       "      <th>Country/Region</th>\n",
       "      <th></th>\n",
       "      <th></th>\n",
       "      <th></th>\n",
       "      <th></th>\n",
       "    </tr>\n",
       "  </thead>\n",
       "  <tbody>\n",
       "    <tr>\n",
       "      <td>Afghanistan</td>\n",
       "      <td>170</td>\n",
       "      <td>4</td>\n",
       "      <td>2</td>\n",
       "      <td>164</td>\n",
       "    </tr>\n",
       "    <tr>\n",
       "      <td>Albania</td>\n",
       "      <td>223</td>\n",
       "      <td>11</td>\n",
       "      <td>44</td>\n",
       "      <td>168</td>\n",
       "    </tr>\n",
       "    <tr>\n",
       "      <td>Algeria</td>\n",
       "      <td>584</td>\n",
       "      <td>35</td>\n",
       "      <td>37</td>\n",
       "      <td>512</td>\n",
       "    </tr>\n",
       "    <tr>\n",
       "      <td>Andorra</td>\n",
       "      <td>370</td>\n",
       "      <td>8</td>\n",
       "      <td>10</td>\n",
       "      <td>352</td>\n",
       "    </tr>\n",
       "    <tr>\n",
       "      <td>Angola</td>\n",
       "      <td>7</td>\n",
       "      <td>2</td>\n",
       "      <td>0</td>\n",
       "      <td>5</td>\n",
       "    </tr>\n",
       "    <tr>\n",
       "      <td>Antigua and Barbuda</td>\n",
       "      <td>7</td>\n",
       "      <td>0</td>\n",
       "      <td>0</td>\n",
       "      <td>7</td>\n",
       "    </tr>\n",
       "    <tr>\n",
       "      <td>Argentina</td>\n",
       "      <td>820</td>\n",
       "      <td>23</td>\n",
       "      <td>228</td>\n",
       "      <td>569</td>\n",
       "    </tr>\n",
       "    <tr>\n",
       "      <td>Armenia</td>\n",
       "      <td>482</td>\n",
       "      <td>3</td>\n",
       "      <td>30</td>\n",
       "      <td>449</td>\n",
       "    </tr>\n",
       "    <tr>\n",
       "      <td>Australia</td>\n",
       "      <td>4361</td>\n",
       "      <td>17</td>\n",
       "      <td>257</td>\n",
       "      <td>4087</td>\n",
       "    </tr>\n",
       "    <tr>\n",
       "      <td>Austria</td>\n",
       "      <td>9618</td>\n",
       "      <td>108</td>\n",
       "      <td>636</td>\n",
       "      <td>8874</td>\n",
       "    </tr>\n",
       "    <tr>\n",
       "      <td>Azerbaijan</td>\n",
       "      <td>273</td>\n",
       "      <td>4</td>\n",
       "      <td>26</td>\n",
       "      <td>243</td>\n",
       "    </tr>\n",
       "  </tbody>\n",
       "</table>\n",
       "</div>"
      ],
      "text/plain": [
       "                     confirmed  deaths  recoveries  active\n",
       "Country/Region                                            \n",
       "Afghanistan                170       4           2     164\n",
       "Albania                    223      11          44     168\n",
       "Algeria                    584      35          37     512\n",
       "Andorra                    370       8          10     352\n",
       "Angola                       7       2           0       5\n",
       "Antigua and Barbuda          7       0           0       7\n",
       "Argentina                  820      23         228     569\n",
       "Armenia                    482       3          30     449\n",
       "Australia                 4361      17         257    4087\n",
       "Austria                   9618     108         636    8874\n",
       "Azerbaijan                 273       4          26     243"
      ]
     },
     "execution_count": 9,
     "metadata": {},
     "output_type": "execute_result"
    }
   ],
   "source": [
    "full_df = pd.concat([confirmed_latest, deaths_latest, recoveries_latest], axis=1)\n",
    "full_df.columns = ['confirmed', 'deaths', 'recoveries']\n",
    "full_df['active'] = full_df.confirmed - full_df.deaths - full_df.recoveries\n",
    "full_df.head(11)"
   ]
  },
  {
   "cell_type": "markdown",
   "metadata": {},
   "source": [
    "Lets concentrate on top 15 countries"
   ]
  },
  {
   "cell_type": "markdown",
   "metadata": {},
   "source": [
    "Here are top 15 countrues with CONFIRMED cases"
   ]
  },
  {
   "cell_type": "code",
   "execution_count": 10,
   "metadata": {},
   "outputs": [
    {
     "data": {
      "text/plain": [
       "Country/Region\n",
       "US                161807\n",
       "Italy             101739\n",
       "Spain              87956\n",
       "China              82198\n",
       "Germany            66885\n",
       "France             45170\n",
       "Iran               41495\n",
       "United Kingdom     22453\n",
       "Switzerland        15922\n",
       "Belgium            11899\n",
       "Netherlands        11817\n",
       "Turkey             10827\n",
       "Korea, South        9661\n",
       "Austria             9618\n",
       "Canada              7398\n",
       "Name: confirmed, dtype: int64"
      ]
     },
     "execution_count": 10,
     "metadata": {},
     "output_type": "execute_result"
    }
   ],
   "source": [
    "full_df.confirmed.sort_values(ascending=False).head(15)"
   ]
  },
  {
   "cell_type": "code",
   "execution_count": 12,
   "metadata": {
    "scrolled": false
   },
   "outputs": [
    {
     "data": {
      "image/png": "[encoded data removed]",
      "text/plain": [
       "<Figure size 1296x504 with 1 Axes>"
      ]
     },
     "metadata": {
      "needs_background": "light"
     },
     "output_type": "display_data"
    }
   ],
   "source": [
    "confirmed_top15 = full_df.confirmed.sort_values(ascending=False).head(15)\n",
    "plt.figure(figsize=(18, 7))\n",
    "plt.barh(confirmed_top15.index, confirmed_top15)\n",
    "plt.title('Confirmed cases as of ' + latest_date, size=20)\n",
    "plt.xlabel('Confirmed cases', size=15)\n",
    "plt.ylabel('Country', size=15)\n",
    "plt.xticks(size=12)\n",
    "plt.yticks(size=15)\n",
    "plt.grid(True)\n",
    "for index, value in enumerate(confirmed_top15):\n",
    "    plt.text(value + 1000, index - .25, str(value))"
   ]
  }
 ],
 "metadata": {
  "kernelspec": {
   "display_name": "Python 3",
   "language": "python",
   "name": "python3"
  },
  "language_info": {
   "codemirror_mode": {
    "name": "ipython",
    "version": 3
   },
   "file_extension": ".py",
   "mimetype": "text/x-python",
   "name": "python",
   "nbconvert_exporter": "python",
   "pygments_lexer": "ipython3",
   "version": "3.7.4"
  }
 },
 "nbformat": 4,
 "nbformat_minor": 2
}
